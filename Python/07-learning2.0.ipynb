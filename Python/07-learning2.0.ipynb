{
 "cells": [
  {
   "cell_type": "code",
   "execution_count": 101,
   "metadata": {},
   "outputs": [],
   "source": [
    "import pandas as pd\n",
    "import matplotlib.pyplot as plt\n",
    "import numpy as np\n",
    "from sklearn import linear_model\n",
    "from sklearn.model_selection import train_test_split\n",
    "from urllib.request import urlopen\n",
    "import requests\n",
    "import warnings\n",
    "warnings.filterwarnings(\"ignore\", category=FutureWarning)\n",
    "try:\n",
    "    from StringIO import StringIO\n",
    "except ImportError:\n",
    "    from io import StringIO\n",
    "\n",
    "from scipy import stats\n",
    "from sklearn.ensemble import RandomForestClassifier "
   ]
  },
  {
   "cell_type": "code",
   "execution_count": 102,
   "metadata": {},
   "outputs": [
    {
     "data": {
      "text/plain": [
       "<matplotlib.axes._subplots.AxesSubplot at 0x1a2682ceb8>"
      ]
     },
     "execution_count": 102,
     "metadata": {},
     "output_type": "execute_result"
    },
    {
     "data": {
      "image/png": "[encoded data removed]",
      "text/plain": [
       "<Figure size 432x288 with 1 Axes>"
      ]
     },
     "metadata": {
      "needs_background": "light"
     },
     "output_type": "display_data"
    }
   ],
   "source": [
    "import seaborn as sns\n",
    "data = [[-1, -1, -1], [-1, 1, 1], \n",
    "        [1, -1, 1],[1, 1, -1]\n",
    "       ]\n",
    "data = pd.DataFrame(data,columns=['X1','X2','Y'])\n",
    "data\n",
    "\n",
    "sns.scatterplot(x=\"X1\", y=\"X2\", hue=\"Y\", style='Y',\n",
    "              data=data, palette='colorblind', s=100)"
   ]
  },
  {
   "cell_type": "code",
   "execution_count": 103,
   "metadata": {},
   "outputs": [],
   "source": [
    "import sklearn.preprocessing\n",
    "poly = sklearn.preprocessing.PolynomialFeatures(2)\n",
    "X = poly.fit_transform(data[['X1','X2']])\n",
    "coefs = np.array([1, np.sqrt(2), np.sqrt(2), 1, np.sqrt(2), 1])\n",
    "X = pd.DataFrame( X * coefs )"
   ]
  },
  {
   "cell_type": "code",
   "execution_count": 104,
   "metadata": {},
   "outputs": [
    {
     "data": {
      "text/plain": [
       "SVC(C=1.0, break_ties=False, cache_size=200, class_weight=None, coef0=0.0,\n",
       "    decision_function_shape='ovr', degree=3, gamma='scale', kernel='linear',\n",
       "    max_iter=-1, probability=False, random_state=None, shrinking=True,\n",
       "    tol=0.001, verbose=False)"
      ]
     },
     "execution_count": 104,
     "metadata": {},
     "output_type": "execute_result"
    }
   ],
   "source": [
    "from sklearn import svm\n",
    "clf = svm.SVC(kernel='linear')\n",
    "clf.fit(X, data.Y)"
   ]
  },
  {
   "cell_type": "code",
   "execution_count": 105,
   "metadata": {},
   "outputs": [
    {
     "name": "stdout",
     "output_type": "stream",
     "text": [
      "Alpha vector:\n"
     ]
    },
    {
     "data": {
      "text/plain": [
       "array([[0.125, 0.125, 0.125, 0.125]])"
      ]
     },
     "execution_count": 105,
     "metadata": {},
     "output_type": "execute_result"
    }
   ],
   "source": [
    "# dual_coef_: Dual coefficients of the support vector \n",
    "# in the decision function (see Mathematical formulation), \n",
    "# multiplied by their targets.\n",
    "# support_: indices of support vectors\n",
    "print(\"Alpha vector:\")\n",
    "clf.dual_coef_ / data.Y.values[clf.support_]"
   ]
  },
  {
   "cell_type": "markdown",
   "metadata": {},
   "source": [
    "### R Lab"
   ]
  },
  {
   "cell_type": "code",
   "execution_count": 106,
   "metadata": {},
   "outputs": [],
   "source": [
    "link = \"https://raw.githubusercontent.com/shuailab/ind_498/master/resource/data/AD.csv\"\n",
    "r = requests.get(link)\n",
    "data = pd.read_csv(StringIO(r.text))\n",
    "X = data.iloc[:, 1:16]\n",
    "Y = data['DX_bl']"
   ]
  },
  {
   "cell_type": "code",
   "execution_count": 120,
   "metadata": {},
   "outputs": [
    {
     "name": "stdout",
     "output_type": "stream",
     "text": [
      "0.17021116138763198\n",
      "0.1547134238310709\n",
      "0.4332202111613876\n",
      "0.15275263951734538\n"
     ]
    }
   ],
   "source": [
    "from sklearn import metrics\n",
    "from sklearn.model_selection import cross_val_score\n",
    "\n",
    "clf = svm.SVC(kernel='linear',C=10)\n",
    "\n",
    "ncv = 10\n",
    "\n",
    "error = 1 - cross_val_score(clf, X, Y, cv=ncv, scoring='accuracy')\n",
    "print(np.mean(error))\n",
    "\n",
    "error = 1 - cross_val_score(clf, X[['AGE', 'PTEDUCAT', 'FDG', 'AV45',\n",
    "                                 'HippoNV', 'rs3865444','PTEDUCAT']], \n",
    "                         Y, cv=ncv, scoring='accuracy')\n",
    "print(np.mean(error))\n",
    "\n",
    "error = 1 - cross_val_score(clf, X[['AGE','PTEDUCAT']], Y, cv=ncv, scoring='accuracy')\n",
    "print(np.mean(error))\n",
    "\n",
    "error = 1 - cross_val_score(clf, X[['FDG', 'AV45','HippoNV']], \n",
    "                         Y, cv=ncv, scoring='accuracy')\n",
    "print(np.mean(error))\n",
    "\n"
   ]
  },
  {
   "cell_type": "code",
   "execution_count": 126,
   "metadata": {},
   "outputs": [
    {
     "name": "stdout",
     "output_type": "stream",
     "text": [
      "Confusion matrix:\n",
      "[[122  29]\n",
      " [ 22  86]]\n"
     ]
    }
   ],
   "source": [
    "\n",
    "x_train, x_test, y_train, y_test = train_test_split(X[['FDG', 'AV45','HippoNV']], Y, test_size=0.5)\n",
    "clf = svm.SVC(kernel='linear',C=10,probability=True)\n",
    "svm_linear = clf.fit(x_train, y_train)\n",
    "ytest_score = svm_linear.predict_proba(x_test)[:,1]\n",
    "ytest_pred = [ 0 if x < 0.5 else 1 for x in ytest_score]\n",
    "\n",
    "from sklearn.metrics import confusion_matrix\n",
    "print(\"Confusion matrix:\")\n",
    "print(confusion_matrix(y_test, ytest_pred))\n"
   ]
  },
  {
   "cell_type": "code",
   "execution_count": 127,
   "metadata": {},
   "outputs": [
    {
     "data": {
      "text/plain": [
       "Text(0.5, 1.0, 'ROC Curve')"
      ]
     },
     "execution_count": 127,
     "metadata": {},
     "output_type": "execute_result"
    },
    {
     "data": {
      "image/png": "[encoded data removed]",
      "text/plain": [
       "<Figure size 432x288 with 1 Axes>"
      ]
     },
     "metadata": {
      "needs_background": "light"
     },
     "output_type": "display_data"
    }
   ],
   "source": [
    "from sklearn.metrics import roc_curve\n",
    "from sklearn.metrics import auc\n",
    "\n",
    "# Plot ROC curve\n",
    "fpr, tpr, thresholds = roc_curve(y_test, ytest_score)\n",
    "plt.plot(fpr, tpr, color = 'red', label='ROC curve')\n",
    "plt.plot([0, 1], [0, 1], color='navy', linestyle='--') # random prediction\n",
    "plt.xlim([-0.01, 1.01])\n",
    "plt.ylim([-0.01, 1.01])\n",
    "plt.xlabel('False Positive Rate')\n",
    "plt.ylabel('True Positive Rate')\n",
    "plt.title('ROC Curve')"
   ]
  },
  {
   "cell_type": "markdown",
   "metadata": {},
   "source": [
    "### SVM parameter tuning"
   ]
  },
  {
   "cell_type": "code",
   "execution_count": 131,
   "metadata": {},
   "outputs": [
    {
     "name": "stdout",
     "output_type": "stream",
     "text": [
      "# Tuning hyper-parameters for precision\n",
      "\n",
      "Best parameters set found on development set:\n",
      "\n",
      "{'C': 100, 'gamma': 0.001, 'kernel': 'linear'}\n",
      "\n",
      "Grid scores on development set:\n",
      "\n",
      "0.832 (+/-0.094) for {'C': 1, 'gamma': 0.001, 'kernel': 'linear'}\n",
      "0.832 (+/-0.094) for {'C': 1, 'gamma': 0.0001, 'kernel': 'linear'}\n",
      "0.850 (+/-0.066) for {'C': 10, 'gamma': 0.001, 'kernel': 'linear'}\n",
      "0.850 (+/-0.066) for {'C': 10, 'gamma': 0.0001, 'kernel': 'linear'}\n",
      "0.871 (+/-0.105) for {'C': 100, 'gamma': 0.001, 'kernel': 'linear'}\n",
      "0.871 (+/-0.105) for {'C': 100, 'gamma': 0.0001, 'kernel': 'linear'}\n",
      "0.863 (+/-0.077) for {'C': 1000, 'gamma': 0.001, 'kernel': 'linear'}\n",
      "0.863 (+/-0.077) for {'C': 1000, 'gamma': 0.0001, 'kernel': 'linear'}\n",
      "0.832 (+/-0.094) for {'C': 1, 'kernel': 'linear'}\n",
      "0.850 (+/-0.066) for {'C': 10, 'kernel': 'linear'}\n",
      "0.871 (+/-0.105) for {'C': 100, 'kernel': 'linear'}\n",
      "0.863 (+/-0.077) for {'C': 1000, 'kernel': 'linear'}\n",
      "\n",
      "Detailed classification report:\n",
      "\n",
      "The model is trained on the full development set.\n",
      "The scores are computed on the full evaluation set.\n",
      "\n",
      "              precision    recall  f1-score   support\n",
      "\n",
      "           0       0.85      0.90      0.87       147\n",
      "           1       0.86      0.79      0.82       112\n",
      "\n",
      "    accuracy                           0.85       259\n",
      "   macro avg       0.85      0.85      0.85       259\n",
      "weighted avg       0.85      0.85      0.85       259\n",
      "\n",
      "\n",
      "# Tuning hyper-parameters for recall\n",
      "\n",
      "Best parameters set found on development set:\n",
      "\n",
      "{'C': 100, 'gamma': 0.001, 'kernel': 'linear'}\n",
      "\n",
      "Grid scores on development set:\n",
      "\n",
      "0.815 (+/-0.100) for {'C': 1, 'gamma': 0.001, 'kernel': 'linear'}\n",
      "0.815 (+/-0.100) for {'C': 1, 'gamma': 0.0001, 'kernel': 'linear'}\n",
      "0.841 (+/-0.077) for {'C': 10, 'gamma': 0.001, 'kernel': 'linear'}\n",
      "0.841 (+/-0.077) for {'C': 10, 'gamma': 0.0001, 'kernel': 'linear'}\n",
      "0.860 (+/-0.111) for {'C': 100, 'gamma': 0.001, 'kernel': 'linear'}\n",
      "0.860 (+/-0.111) for {'C': 100, 'gamma': 0.0001, 'kernel': 'linear'}\n",
      "0.853 (+/-0.085) for {'C': 1000, 'gamma': 0.001, 'kernel': 'linear'}\n",
      "0.853 (+/-0.085) for {'C': 1000, 'gamma': 0.0001, 'kernel': 'linear'}\n",
      "0.815 (+/-0.100) for {'C': 1, 'kernel': 'linear'}\n",
      "0.841 (+/-0.077) for {'C': 10, 'kernel': 'linear'}\n",
      "0.860 (+/-0.111) for {'C': 100, 'kernel': 'linear'}\n",
      "0.853 (+/-0.085) for {'C': 1000, 'kernel': 'linear'}\n",
      "\n",
      "Detailed classification report:\n",
      "\n",
      "The model is trained on the full development set.\n",
      "The scores are computed on the full evaluation set.\n",
      "\n",
      "              precision    recall  f1-score   support\n",
      "\n",
      "           0       0.85      0.90      0.87       147\n",
      "           1       0.86      0.79      0.82       112\n",
      "\n",
      "    accuracy                           0.85       259\n",
      "   macro avg       0.85      0.85      0.85       259\n",
      "weighted avg       0.85      0.85      0.85       259\n",
      "\n",
      "\n"
     ]
    }
   ],
   "source": [
    "from sklearn.model_selection import GridSearchCV\n",
    "from sklearn.metrics import classification_report\n",
    "\n",
    "X_train, X_test, y_train, y_test = train_test_split(\n",
    "                        X[['FDG', 'AV45','HippoNV']], \n",
    "                        Y, test_size=0.5)\n",
    "\n",
    "# Set the parameters by cross-validation\n",
    "tuned_parameters = [{'kernel': ['linear'], 'gamma': [1e-3, 1e-4],\n",
    "                     'C': [1, 10, 100, 1000]},\n",
    "                    {'kernel': ['linear'], 'C': [1, 10, 100, 1000]}]\n",
    "\n",
    "scores = ['precision', 'recall']\n",
    "\n",
    "for score in scores:\n",
    "    print(\"# Tuning hyper-parameters for %s\" % score)\n",
    "    print()\n",
    "\n",
    "    clf = GridSearchCV(\n",
    "        svm.SVC(), tuned_parameters, scoring='%s_macro' % score\n",
    "    )\n",
    "    clf.fit(X_train, y_train)\n",
    "\n",
    "    print(\"Best parameters set found on development set:\")\n",
    "    print()\n",
    "    print(clf.best_params_)\n",
    "    print()\n",
    "    print(\"Grid scores on development set:\")\n",
    "    print()\n",
    "    means = clf.cv_results_['mean_test_score']\n",
    "    stds = clf.cv_results_['std_test_score']\n",
    "    for mean, std, params in zip(means, stds, clf.cv_results_['params']):\n",
    "        print(\"%0.3f (+/-%0.03f) for %r\"\n",
    "              % (mean, std * 2, params))\n",
    "    print()\n",
    "\n",
    "    print(\"Detailed classification report:\")\n",
    "    print()\n",
    "    print(\"The model is trained on the full development set.\")\n",
    "    print(\"The scores are computed on the full evaluation set.\")\n",
    "    print()\n",
    "    y_true, y_pred = y_test, clf.predict(X_test)\n",
    "    print(classification_report(y_true, y_pred))\n",
    "    print()"
   ]
  },
  {
   "cell_type": "markdown",
   "metadata": {},
   "source": [
    "### Comparison between decision tree, random forests and boosted trees"
   ]
  },
  {
   "cell_type": "code",
   "execution_count": 134,
   "metadata": {},
   "outputs": [],
   "source": [
    "link = \"https://raw.githubusercontent.com/shuailab/ind_498/master/resource/data/AD.csv\"\n",
    "r = requests.get(link)\n",
    "data = pd.read_csv(StringIO(r.text))\n",
    "X = data.iloc[:, 1:16]\n",
    "Y = data['DX_bl']"
   ]
  },
  {
   "cell_type": "code",
   "execution_count": 148,
   "metadata": {},
   "outputs": [
    {
     "data": {
      "text/html": [
       "<div>\n",
       "<style scoped>\n",
       "    .dataframe tbody tr th:only-of-type {\n",
       "        vertical-align: middle;\n",
       "    }\n",
       "\n",
       "    .dataframe tbody tr th {\n",
       "        vertical-align: top;\n",
       "    }\n",
       "\n",
       "    .dataframe thead th {\n",
       "        text-align: right;\n",
       "    }\n",
       "</style>\n",
       "<table border=\"1\" class=\"dataframe\">\n",
       "  <thead>\n",
       "    <tr style=\"text-align: right;\">\n",
       "      <th></th>\n",
       "      <th>training_perc</th>\n",
       "      <th>type</th>\n",
       "      <th>error</th>\n",
       "    </tr>\n",
       "  </thead>\n",
       "  <tbody>\n",
       "    <tr>\n",
       "      <th>0</th>\n",
       "      <td>0.1</td>\n",
       "      <td>randomforest</td>\n",
       "      <td>0.096154</td>\n",
       "    </tr>\n",
       "    <tr>\n",
       "      <th>0</th>\n",
       "      <td>0.1</td>\n",
       "      <td>tree</td>\n",
       "      <td>0.173077</td>\n",
       "    </tr>\n",
       "    <tr>\n",
       "      <th>0</th>\n",
       "      <td>0.1</td>\n",
       "      <td>boosting</td>\n",
       "      <td>0.115385</td>\n",
       "    </tr>\n",
       "    <tr>\n",
       "      <th>0</th>\n",
       "      <td>0.1</td>\n",
       "      <td>randomforest</td>\n",
       "      <td>0.230769</td>\n",
       "    </tr>\n",
       "    <tr>\n",
       "      <th>0</th>\n",
       "      <td>0.1</td>\n",
       "      <td>tree</td>\n",
       "      <td>0.250000</td>\n",
       "    </tr>\n",
       "    <tr>\n",
       "      <th>...</th>\n",
       "      <td>...</td>\n",
       "      <td>...</td>\n",
       "      <td>...</td>\n",
       "    </tr>\n",
       "    <tr>\n",
       "      <th>0</th>\n",
       "      <td>0.7</td>\n",
       "      <td>tree</td>\n",
       "      <td>0.196133</td>\n",
       "    </tr>\n",
       "    <tr>\n",
       "      <th>0</th>\n",
       "      <td>0.7</td>\n",
       "      <td>boosting</td>\n",
       "      <td>0.160221</td>\n",
       "    </tr>\n",
       "    <tr>\n",
       "      <th>0</th>\n",
       "      <td>0.7</td>\n",
       "      <td>randomforest</td>\n",
       "      <td>0.154696</td>\n",
       "    </tr>\n",
       "    <tr>\n",
       "      <th>0</th>\n",
       "      <td>0.7</td>\n",
       "      <td>tree</td>\n",
       "      <td>0.143646</td>\n",
       "    </tr>\n",
       "    <tr>\n",
       "      <th>0</th>\n",
       "      <td>0.7</td>\n",
       "      <td>boosting</td>\n",
       "      <td>0.149171</td>\n",
       "    </tr>\n",
       "  </tbody>\n",
       "</table>\n",
       "<p>1050 rows × 3 columns</p>\n",
       "</div>"
      ],
      "text/plain": [
       "    training_perc          type     error\n",
       "0             0.1  randomforest  0.096154\n",
       "0             0.1          tree  0.173077\n",
       "0             0.1      boosting  0.115385\n",
       "0             0.1  randomforest  0.230769\n",
       "0             0.1          tree  0.250000\n",
       "..            ...           ...       ...\n",
       "0             0.7          tree  0.196133\n",
       "0             0.7      boosting  0.160221\n",
       "0             0.7  randomforest  0.154696\n",
       "0             0.7          tree  0.143646\n",
       "0             0.7      boosting  0.149171\n",
       "\n",
       "[1050 rows x 3 columns]"
      ]
     },
     "execution_count": 148,
     "metadata": {},
     "output_type": "execute_result"
    }
   ],
   "source": [
    "from sklearn.ensemble import GradientBoostingClassifier\n",
    "from sklearn.tree import DecisionTreeClassifier\n",
    "\n",
    "error_df = pd.DataFrame()\n",
    "\n",
    "for training_perc in [0.1, 0.2, 0.3, 0.4, 0.5, 0.6, 0.7]:\n",
    "    for isampling in range(50):\n",
    "        x_train, x_test, y_train, y_test = train_test_split(X, Y, \n",
    "                                    test_size=training_perc)\n",
    "        forest = RandomForestClassifier()\n",
    "        forest.fit(x_train, y_train)\n",
    "        pred_rf = forest.predict(x_test)\n",
    "        this_error = sum(pred_rf != y_test)/len(y_test)\n",
    "        this_err = pd.DataFrame({'training_perc':[training_perc],\n",
    "                                 'type':['randomforest'],\n",
    "                                 'error':[this_error] })\n",
    "        error_df = error_df.append(this_err)\n",
    "\n",
    "        tree = DecisionTreeClassifier()\n",
    "        tree.fit(x_train, y_train)\n",
    "        pred_tree = tree.predict(x_test)\n",
    "        this_error = sum(pred_tree != y_test)/len(y_test)\n",
    "        this_err = pd.DataFrame({'training_perc':[training_perc],\n",
    "                                 'type':['tree'],\n",
    "                                 'error':[this_error] })\n",
    "        error_df = error_df.append(this_err)\n",
    "\n",
    "        boosting = GradientBoostingClassifier()\n",
    "        boosting.fit(x_train, y_train)\n",
    "        pred_boosting = boosting.predict(x_test)\n",
    "        this_error = sum(pred_boosting != y_test)/len(y_test)\n",
    "        this_err = pd.DataFrame({'training_perc':[training_perc],\n",
    "                                 'type':['boosting'],\n",
    "                                 'error':[this_error] })\n",
    "        error_df = error_df.append(this_err)\n",
    "    \n",
    "error_df    \n"
   ]
  },
  {
   "cell_type": "code",
   "execution_count": 149,
   "metadata": {},
   "outputs": [
    {
     "data": {
      "text/plain": [
       "Text(0.5, 1.0, 'Error vs. number of trees')"
      ]
     },
     "execution_count": 149,
     "metadata": {},
     "output_type": "execute_result"
    },
    {
     "data": {
      "image/png": "[encoded data removed]",
      "text/plain": [
       "<Figure size 432x288 with 1 Axes>"
      ]
     },
     "metadata": {
      "needs_background": "light"
     },
     "output_type": "display_data"
    }
   ],
   "source": [
    "ax = sns.boxplot(x=\"training_perc\", y=\"error\", hue='type',data=error_df)\n",
    "ax.set_title(\"Error vs. number of trees\")"
   ]
  },
  {
   "cell_type": "code",
   "execution_count": 150,
   "metadata": {},
   "outputs": [
    {
     "data": {
      "text/html": [
       "<div>\n",
       "<style scoped>\n",
       "    .dataframe tbody tr th:only-of-type {\n",
       "        vertical-align: middle;\n",
       "    }\n",
       "\n",
       "    .dataframe tbody tr th {\n",
       "        vertical-align: top;\n",
       "    }\n",
       "\n",
       "    .dataframe thead th {\n",
       "        text-align: right;\n",
       "    }\n",
       "</style>\n",
       "<table border=\"1\" class=\"dataframe\">\n",
       "  <thead>\n",
       "    <tr style=\"text-align: right;\">\n",
       "      <th></th>\n",
       "      <th>num_trees</th>\n",
       "      <th>type</th>\n",
       "      <th>error</th>\n",
       "    </tr>\n",
       "  </thead>\n",
       "  <tbody>\n",
       "    <tr>\n",
       "      <th>0</th>\n",
       "      <td>10</td>\n",
       "      <td>randomforest</td>\n",
       "      <td>0.179558</td>\n",
       "    </tr>\n",
       "    <tr>\n",
       "      <th>0</th>\n",
       "      <td>10</td>\n",
       "      <td>boosting</td>\n",
       "      <td>0.176796</td>\n",
       "    </tr>\n",
       "    <tr>\n",
       "      <th>0</th>\n",
       "      <td>10</td>\n",
       "      <td>randomforest</td>\n",
       "      <td>0.207182</td>\n",
       "    </tr>\n",
       "    <tr>\n",
       "      <th>0</th>\n",
       "      <td>10</td>\n",
       "      <td>boosting</td>\n",
       "      <td>0.165746</td>\n",
       "    </tr>\n",
       "    <tr>\n",
       "      <th>0</th>\n",
       "      <td>10</td>\n",
       "      <td>randomforest</td>\n",
       "      <td>0.154696</td>\n",
       "    </tr>\n",
       "    <tr>\n",
       "      <th>...</th>\n",
       "      <td>...</td>\n",
       "      <td>...</td>\n",
       "      <td>...</td>\n",
       "    </tr>\n",
       "    <tr>\n",
       "      <th>0</th>\n",
       "      <td>200</td>\n",
       "      <td>boosting</td>\n",
       "      <td>0.196133</td>\n",
       "    </tr>\n",
       "    <tr>\n",
       "      <th>0</th>\n",
       "      <td>200</td>\n",
       "      <td>randomforest</td>\n",
       "      <td>0.149171</td>\n",
       "    </tr>\n",
       "    <tr>\n",
       "      <th>0</th>\n",
       "      <td>200</td>\n",
       "      <td>boosting</td>\n",
       "      <td>0.165746</td>\n",
       "    </tr>\n",
       "    <tr>\n",
       "      <th>0</th>\n",
       "      <td>200</td>\n",
       "      <td>randomforest</td>\n",
       "      <td>0.138122</td>\n",
       "    </tr>\n",
       "    <tr>\n",
       "      <th>0</th>\n",
       "      <td>200</td>\n",
       "      <td>boosting</td>\n",
       "      <td>0.157459</td>\n",
       "    </tr>\n",
       "  </tbody>\n",
       "</table>\n",
       "<p>500 rows × 3 columns</p>\n",
       "</div>"
      ],
      "text/plain": [
       "    num_trees          type     error\n",
       "0          10  randomforest  0.179558\n",
       "0          10      boosting  0.176796\n",
       "0          10  randomforest  0.207182\n",
       "0          10      boosting  0.165746\n",
       "0          10  randomforest  0.154696\n",
       "..        ...           ...       ...\n",
       "0         200      boosting  0.196133\n",
       "0         200  randomforest  0.149171\n",
       "0         200      boosting  0.165746\n",
       "0         200  randomforest  0.138122\n",
       "0         200      boosting  0.157459\n",
       "\n",
       "[500 rows x 3 columns]"
      ]
     },
     "execution_count": 150,
     "metadata": {},
     "output_type": "execute_result"
    }
   ],
   "source": [
    "error_df = pd.DataFrame()\n",
    "\n",
    "for num_trees in [10, 20, 50, 100, 200]:\n",
    "    for isampling in range(50):\n",
    "        x_train, x_test, y_train, y_test = train_test_split(X, Y, \n",
    "                                    test_size=training_perc)\n",
    "        forest = RandomForestClassifier(n_estimators=num_trees)\n",
    "        forest.fit(x_train, y_train)\n",
    "        pred_rf = forest.predict(x_test)\n",
    "        this_error = sum(pred_rf != y_test)/len(y_test)\n",
    "        this_err = pd.DataFrame({'num_trees':[num_trees],\n",
    "                                 'type':['randomforest'],\n",
    "                                 'error':[this_error] })\n",
    "        error_df = error_df.append(this_err)\n",
    "\n",
    "\n",
    "        boosting = GradientBoostingClassifier(n_estimators=num_trees)\n",
    "        boosting.fit(x_train, y_train)\n",
    "        pred_boosting = boosting.predict(x_test)\n",
    "        this_error = sum(pred_boosting != y_test)/len(y_test)\n",
    "        this_err = pd.DataFrame({'num_trees':[num_trees],\n",
    "                                 'type':['boosting'],\n",
    "                                 'error':[this_error] })\n",
    "        error_df = error_df.append(this_err)\n",
    "    \n",
    "error_df    "
   ]
  },
  {
   "cell_type": "code",
   "execution_count": 151,
   "metadata": {},
   "outputs": [
    {
     "data": {
      "text/plain": [
       "Text(0.5, 1.0, 'Error vs. number of trees')"
      ]
     },
     "execution_count": 151,
     "metadata": {},
     "output_type": "execute_result"
    },
    {
     "data": {
      "image/png": "[encoded data removed]",
      "text/plain": [
       "<Figure size 432x288 with 1 Axes>"
      ]
     },
     "metadata": {
      "needs_background": "light"
     },
     "output_type": "display_data"
    }
   ],
   "source": [
    "ax = sns.boxplot(x=\"num_trees\", y=\"error\", hue='type',data=error_df)\n",
    "ax.set_title(\"Error vs. number of trees\")"
   ]
  },
  {
   "cell_type": "code",
   "execution_count": 164,
   "metadata": {},
   "outputs": [],
   "source": [
    "\n",
    "error_df = pd.DataFrame()\n",
    "\n",
    "for complexity_cost in [0, 0.001, 0.005, 0.01, 0.02, 0.05, 0.1, 0.2, 0.3]:\n",
    "    for isampling in range(50):\n",
    "        x_train, x_test, y_train, y_test = train_test_split(X, Y, \n",
    "                                    test_size=0.5)\n",
    "\n",
    "        tree = DecisionTreeClassifier(ccp_alpha=complexity_cost)\n",
    "        tree.fit(x_train, y_train)\n",
    "        pred_tree = tree.predict(x_test)\n",
    "        this_error = sum(pred_tree != y_test)/len(y_test)\n",
    "        this_err = pd.DataFrame({'complexity_cost':[complexity_cost],\n",
    "                                 'type':['tree'],\n",
    "                                 'error':[this_error] })\n",
    "        error_df = error_df.append(this_err)\n",
    "    "
   ]
  },
  {
   "cell_type": "code",
   "execution_count": 165,
   "metadata": {},
   "outputs": [
    {
     "data": {
      "text/plain": [
       "Text(0.5, 1.0, 'Error vs. complexity_cost')"
      ]
     },
     "execution_count": 165,
     "metadata": {},
     "output_type": "execute_result"
    },
    {
     "data": {
      "image/png": "[encoded data removed]",
      "text/plain": [
       "<Figure size 432x288 with 1 Axes>"
      ]
     },
     "metadata": {
      "needs_background": "light"
     },
     "output_type": "display_data"
    }
   ],
   "source": [
    "ax = sns.boxplot(x=\"complexity_cost\", y=\"error\", data=error_df)\n",
    "ax.set_title(\"Error vs. complexity_cost\")"
   ]
  },
  {
   "cell_type": "code",
   "execution_count": 166,
   "metadata": {},
   "outputs": [],
   "source": [
    "### SVM Decision Boundary"
   ]
  },
  {
   "cell_type": "code",
   "execution_count": 190,
   "metadata": {},
   "outputs": [],
   "source": [
    "# Generate data\n",
    "data = pd.DataFrame( np.random.uniform(0, 1, size=[200, 2]),\n",
    "                    columns=['X1','X2'])\n",
    "data['X12'] = 0.5 * (data.X1 - data.X2)\n",
    "data['Y'] = 1\n",
    "data.loc[data.X12>0,'Y'] = 0\n",
    "\n",
    "# plt.scatter(data.X1, data.X2, s=1, marker='o', c = data.Y)"
   ]
  },
  {
   "cell_type": "code",
   "execution_count": 197,
   "metadata": {},
   "outputs": [
    {
     "data": {
      "text/plain": [
       "<matplotlib.collections.PathCollection at 0x1a292f7400>"
      ]
     },
     "execution_count": 197,
     "metadata": {},
     "output_type": "execute_result"
    },
    {
     "data": {
      "image/png": "[encoded data removed]",
      "text/plain": [
       "<Figure size 432x288 with 1 Axes>"
      ]
     },
     "metadata": {
      "needs_background": "light"
     },
     "output_type": "display_data"
    }
   ],
   "source": [
    "clf = svm.SVC(kernel='linear', C=1000)\n",
    "clf.fit(data[['X1','X2']], data.Y)\n",
    "plt.scatter(data.X1, data.X2, c=data.Y, s=8, cmap=plt.cm.Paired)"
   ]
  },
  {
   "cell_type": "code",
   "execution_count": 196,
   "metadata": {},
   "outputs": [
    {
     "data": {
      "image/png": "[encoded data removed]",
      "text/plain": [
       "<Figure size 432x288 with 1 Axes>"
      ]
     },
     "metadata": {
      "needs_background": "light"
     },
     "output_type": "display_data"
    }
   ],
   "source": [
    "# plot the decision function\n",
    "ax = plt.gca()\n",
    "xlim = ax.get_xlim()\n",
    "ylim = ax.get_ylim()\n",
    "\n",
    "# create grid to evaluate model\n",
    "xx = np.linspace(xlim[0], xlim[1], 30)\n",
    "yy = np.linspace(ylim[0], ylim[1], 30)\n",
    "YY, XX = np.meshgrid(yy, xx)\n",
    "xy = np.vstack([XX.ravel(), YY.ravel()]).T\n",
    "Z = clf.decision_function(xy).reshape(XX.shape)\n",
    "\n",
    "plt.scatter(data.X1, data.X2, c=data.Y, s=8, cmap=plt.cm.Paired)\n",
    "# plot decision boundary and margins\n",
    "ax.contour(XX, YY, Z, colors='r', levels=[-1, 0, 1], alpha=0.9,\n",
    "           linestyles=['--', '-', '--'])\n",
    "# plot support vectors\n",
    "ax.scatter(clf.support_vectors_[:, 0], clf.support_vectors_[:, 1], s=200,\n",
    "           linewidth=3, facecolors='none', edgecolors='r')\n",
    "plt.show()"
   ]
  },
  {
   "cell_type": "code",
   "execution_count": null,
   "metadata": {},
   "outputs": [],
   "source": []
  }
 ],
 "metadata": {
  "kernelspec": {
   "display_name": "Python 3",
   "language": "python",
   "name": "python3"
  },
  "language_info": {
   "codemirror_mode": {
    "name": "ipython",
    "version": 3
   },
   "file_extension": ".py",
   "mimetype": "text/x-python",
   "name": "python",
   "nbconvert_exporter": "python",
   "pygments_lexer": "ipython3",
   "version": "3.7.3"
  }
 },
 "nbformat": 4,
 "nbformat_minor": 4
}
