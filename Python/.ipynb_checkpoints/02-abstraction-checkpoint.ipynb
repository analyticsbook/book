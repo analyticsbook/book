{
 "cells": [
  {
   "cell_type": "code",
   "execution_count": 8,
   "metadata": {},
   "outputs": [],
   "source": [
    "import pandas as pd\n",
    "import numpy as np\n",
    "from sklearn import linear_model\n",
    "from sklearn.model_selection import train_test_split\n",
    "from urllib.request import urlopen\n",
    "import requests\n",
    "try:\n",
    "    from StringIO import StringIO\n",
    "except ImportError:\n",
    "    from io import StringIO"
   ]
  },
  {
   "cell_type": "code",
   "execution_count": 2,
   "metadata": {},
   "outputs": [],
   "source": [
    "data = pd.DataFrame({'Y': [1,3,3,5,5,6,8,9], \n",
    "                     'X': [2,3,5,4,6,5,7,8]})\n",
    "\n",
    "# Create linear regression object\n",
    "regr = linear_model.LinearRegression()"
   ]
  },
  {
   "cell_type": "code",
   "execution_count": 3,
   "metadata": {},
   "outputs": [],
   "source": [
    "# Train the model using the training sets\n",
    "lm = regr.fit(data[['X']], data[['Y']])"
   ]
  },
  {
   "cell_type": "code",
   "execution_count": 4,
   "metadata": {},
   "outputs": [
    {
     "name": "stdout",
     "output_type": "stream",
     "text": [
      "Intercept: -1.0714285714285712\n",
      "Coefficient: 1.2142857142857142\n"
     ]
    }
   ],
   "source": [
    "print(\"Intercept: {intercept}\".format(intercept=lm.intercept_.squeeze()))\n",
    "print(\"Coefficient: {coef}\".format(coef=lm.coef_.squeeze()))"
   ]
  },
  {
   "cell_type": "code",
   "execution_count": 9,
   "metadata": {},
   "outputs": [],
   "source": [
    "link = \"https://raw.githubusercontent.com/shuailab/ind_498/master/resource/data/AD.csv\"\n",
    "r = requests.get(link)\n",
    "AD = pd.read_csv(StringIO(r.text))"
   ]
  },
  {
   "cell_type": "code",
   "execution_count": 10,
   "metadata": {},
   "outputs": [
    {
     "name": "stdout",
     "output_type": "stream",
     "text": [
      "Intercept: 22.433271452412193\n",
      "Coefficient: [-1.13824099  0.01687816 -0.34835988  0.1808196   0.56620006 -2.16867168\n",
      "  2.95604677 -0.20674404 -0.00496495  0.32060917 -0.23788969  0.27864557\n",
      " -0.39842148  0.12544192  0.45718057]\n"
     ]
    }
   ],
   "source": [
    "# import data\n",
    "# AD = pd.read_csv(\"data/ADNI/ADNI_baseline.csv\")\n",
    "X = AD.iloc[:, :15]\n",
    "Y = AD[['MMSCORE']]\n",
    "\n",
    "# set training and testing data\n",
    "X_train, X_test, y_train, y_test = train_test_split(\n",
    "            X, Y, test_size=0.5)\n",
    "\n",
    "# build model on training data\n",
    "lm = regr.fit(X_train, y_train)\n",
    "print(\"Intercept: {intercept}\".format(intercept=lm.intercept_.squeeze()))\n",
    "print(\"Coefficient: {coef}\".format(coef=lm.coef_.squeeze()))"
   ]
  },
  {
   "cell_type": "code",
   "execution_count": null,
   "metadata": {},
   "outputs": [],
   "source": []
  }
 ],
 "metadata": {
  "kernelspec": {
   "display_name": "Python 3",
   "language": "python",
   "name": "python3"
  },
  "language_info": {
   "codemirror_mode": {
    "name": "ipython",
    "version": 3
   },
   "file_extension": ".py",
   "mimetype": "text/x-python",
   "name": "python",
   "nbconvert_exporter": "python",
   "pygments_lexer": "ipython3",
   "version": "3.8.5"
  }
 },
 "nbformat": 4,
 "nbformat_minor": 2
}
