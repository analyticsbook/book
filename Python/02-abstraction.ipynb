{
 "cells": [
  {
   "cell_type": "code",
   "execution_count": 86,
   "metadata": {},
   "outputs": [],
   "source": [
    "import pandas as pd\n",
    "import numpy as np\n",
    "from sklearn import linear_model\n",
    "from sklearn.model_selection import train_test_split"
   ]
  },
  {
   "cell_type": "code",
   "execution_count": 6,
   "metadata": {},
   "outputs": [],
   "source": [
    "data = pd.DataFrame({'Y': [1,3,3,5,5,6,8,9], \n",
    "                     'X': [2,3,5,4,6,5,7,8]})\n",
    "\n",
    "# Create linear regression object\n",
    "regr = linear_model.LinearRegression()"
   ]
  },
  {
   "cell_type": "code",
   "execution_count": 31,
   "metadata": {},
   "outputs": [],
   "source": [
    "# Train the model using the training sets\n",
    "lm = regr.fit(data[['X']], data[['Y']])"
   ]
  },
  {
   "cell_type": "code",
   "execution_count": 63,
   "metadata": {},
   "outputs": [
    {
     "name": "stdout",
     "output_type": "stream",
     "text": [
      "Intercept: -1.0714285714285712\n",
      "Coefficient: 1.2142857142857142\n"
     ]
    }
   ],
   "source": [
    "print(\"Intercept: {intercept}\".format(intercept=lm.intercept_.squeeze()))\n",
    "print(\"Coefficient: {coef}\".format(coef=lm.coef_.squeeze()))"
   ]
  },
  {
   "cell_type": "code",
   "execution_count": 89,
   "metadata": {},
   "outputs": [
    {
     "name": "stdout",
     "output_type": "stream",
     "text": [
      "Intercept: 20.68627829901604\n",
      "Coefficient: [ 1.60711606e-03 -3.41436711e-01  1.64020497e-01  7.92435396e-01\n",
      " -1.72736658e+00  5.16083152e+00  2.05044756e-01 -3.99667574e-01\n",
      "  5.52994373e-02 -3.09526614e-01  1.40620033e-01 -1.00730733e-01\n",
      "  2.15819401e-01  6.12902770e-01 -6.19363975e-01]\n"
     ]
    }
   ],
   "source": [
    "# import data\n",
    "AD = pd.read_csv(\"data/ADNI/ADNI_baseline.csv\")\n",
    "X = AD.iloc[:, :15]\n",
    "Y = AD[['MMSCORE']]\n",
    "\n",
    "# set training and testing data\n",
    "X_train, X_test, y_train, y_test = train_test_split(\n",
    "            X, Y, test_size=0.5)\n",
    "\n",
    "# build model on training data\n",
    "lm = regr.fit(X_train, y_train)\n",
    "print(\"Intercept: {intercept}\".format(intercept=lm.intercept_.squeeze()))\n",
    "print(\"Coefficient: {coef}\".format(coef=lm.coef_.squeeze()))"
   ]
  }
 ],
 "metadata": {
  "kernelspec": {
   "display_name": "Python 3",
   "language": "python",
   "name": "python3"
  },
  "language_info": {
   "codemirror_mode": {
    "name": "ipython",
    "version": 3
   },
   "file_extension": ".py",
   "mimetype": "text/x-python",
   "name": "python",
   "nbconvert_exporter": "python",
   "pygments_lexer": "ipython3",
   "version": "3.7.3"
  }
 },
 "nbformat": 4,
 "nbformat_minor": 2
}
